{
 "cells": [
  {
   "cell_type": "markdown",
   "id": "029ffcc4",
   "metadata": {},
   "source": [
    "# CategorAY Suggestion\n",
    "\n",
    "**TPA Web 24-2 AI Var 4**\n",
    "\n",
    "Dataset: https://www.kaggle.com/datasets/amananandrai/ag-news-classification-dataset\n",
    "\n",
    "Download test.csv and train.csv, then move it to `ai/data/`"
   ]
  },
  {
   "cell_type": "markdown",
   "id": "38ff6abc",
   "metadata": {},
   "source": [
    "## Dataset Preparation"
   ]
  },
  {
   "cell_type": "code",
   "execution_count": 3,
   "id": "53fe27f2",
   "metadata": {},
   "outputs": [],
   "source": [
    "import pandas as pd\n",
    "import matplotlib.pyplot as plt\n",
    "import seaborn as sns\n",
    "import os"
   ]
  },
  {
   "cell_type": "code",
   "execution_count": 4,
   "id": "3b0c91e1",
   "metadata": {},
   "outputs": [
    {
     "name": "stdout",
     "output_type": "stream",
     "text": [
      "Looking for training data at: ../data/train.csv\n",
      "Looking for test data at: ../data/test.csv\n"
     ]
    }
   ],
   "source": [
    "DATA_DIR = '../data/'\n",
    "TRAIN_CSV_PATH = f'{DATA_DIR}train.csv'\n",
    "TEST_CSV_PATH = f'{DATA_DIR}test.csv'\n",
    "\n",
    "print(f\"Looking for training data at: {TRAIN_CSV_PATH}\")\n",
    "print(f\"Looking for test data at: {TEST_CSV_PATH}\")"
   ]
  },
  {
   "cell_type": "code",
   "execution_count": 5,
   "id": "428580f7",
   "metadata": {},
   "outputs": [
    {
     "name": "stdout",
     "output_type": "stream",
     "text": [
      "Successfully loaded train.csv and test.csv\n"
     ]
    }
   ],
   "source": [
    "try:\n",
    "    train_df = pd.read_csv(TRAIN_CSV_PATH)\n",
    "    test_df = pd.read_csv(TEST_CSV_PATH)\n",
    "    print(\"Successfully loaded train.csv and test.csv\")\n",
    "except FileNotFoundError:\n",
    "    print(f\"ERROR: CSV files not found. Make sure '{TRAIN_CSV_PATH}' and '{TEST_CSV_PATH}' exist.\")\n",
    "    exit()"
   ]
  },
  {
   "cell_type": "code",
   "execution_count": 6,
   "id": "aeb45b64",
   "metadata": {},
   "outputs": [
    {
     "name": "stdout",
     "output_type": "stream",
     "text": [
      "\n",
      "--- Training Data Inspection ---\n",
      "First 5 rows of training data:\n",
      "   Class Index                                              Title  \\\n",
      "0            3  Wall St. Bears Claw Back Into the Black (Reuters)   \n",
      "1            3  Carlyle Looks Toward Commercial Aerospace (Reu...   \n",
      "2            3    Oil and Economy Cloud Stocks' Outlook (Reuters)   \n",
      "3            3  Iraq Halts Oil Exports from Main Southern Pipe...   \n",
      "4            3  Oil prices soar to all-time record, posing new...   \n",
      "\n",
      "                                         Description  \n",
      "0  Reuters - Short-sellers, Wall Street's dwindli...  \n",
      "1  Reuters - Private investment firm Carlyle Grou...  \n",
      "2  Reuters - Soaring crude prices plus worries\\ab...  \n",
      "3  Reuters - Authorities have halted oil export\\f...  \n",
      "4  AFP - Tearaway world oil prices, toppling reco...  \n",
      "\n",
      "Training data information:\n",
      "<class 'pandas.core.frame.DataFrame'>\n",
      "RangeIndex: 120000 entries, 0 to 119999\n",
      "Data columns (total 3 columns):\n",
      " #   Column       Non-Null Count   Dtype \n",
      "---  ------       --------------   ----- \n",
      " 0   Class Index  120000 non-null  int64 \n",
      " 1   Title        120000 non-null  object\n",
      " 2   Description  120000 non-null  object\n",
      "dtypes: int64(1), object(2)\n",
      "memory usage: 2.7+ MB\n",
      "\n",
      "Training data descriptive statistics (for numerical columns, if any):\n",
      "          Class Index         Title  \\\n",
      "count   120000.000000        120000   \n",
      "unique            NaN        114350   \n",
      "top               NaN  Transactions   \n",
      "freq              NaN            39   \n",
      "mean         2.500000           NaN   \n",
      "std          1.118039           NaN   \n",
      "min          1.000000           NaN   \n",
      "25%          1.750000           NaN   \n",
      "50%          2.500000           NaN   \n",
      "75%          3.250000           NaN   \n",
      "max          4.000000           NaN   \n",
      "\n",
      "                                              Description  \n",
      "count                                              120000  \n",
      "unique                                             118723  \n",
      "top     With the economy slowly turning up, upgrading ...  \n",
      "freq                                                   15  \n",
      "mean                                                  NaN  \n",
      "std                                                   NaN  \n",
      "min                                                   NaN  \n",
      "25%                                                   NaN  \n",
      "50%                                                   NaN  \n",
      "75%                                                   NaN  \n",
      "max                                                   NaN  \n",
      "\n",
      "Missing values in training data:\n",
      "Class Index    0\n",
      "Title          0\n",
      "Description    0\n",
      "dtype: int64\n"
     ]
    }
   ],
   "source": [
    "print(\"\\n--- Training Data Inspection ---\")\n",
    "print(\"First 5 rows of training data:\")\n",
    "print(train_df.head())\n",
    "print(\"\\nTraining data information:\")\n",
    "train_df.info()\n",
    "print(\"\\nTraining data descriptive statistics (for numerical columns, if any):\")\n",
    "print(train_df.describe(include='all')) # Include 'all' to see stats for object types too\n",
    "print(\"\\nMissing values in training data:\")\n",
    "print(train_df.isnull().sum())"
   ]
  },
  {
   "cell_type": "code",
   "execution_count": 7,
   "id": "db20c090",
   "metadata": {},
   "outputs": [
    {
     "name": "stdout",
     "output_type": "stream",
     "text": [
      "\n",
      "--- Test Data Inspection ---\n",
      "First 5 rows of test data:\n",
      "   Class Index                                              Title  \\\n",
      "0            3                  Fears for T N pension after talks   \n",
      "1            4  The Race is On: Second Private Team Sets Launc...   \n",
      "2            4      Ky. Company Wins Grant to Study Peptides (AP)   \n",
      "3            4      Prediction Unit Helps Forecast Wildfires (AP)   \n",
      "4            4        Calif. Aims to Limit Farm-Related Smog (AP)   \n",
      "\n",
      "                                         Description  \n",
      "0  Unions representing workers at Turner   Newall...  \n",
      "1  SPACE.com - TORONTO, Canada -- A second\\team o...  \n",
      "2  AP - A company founded by a chemistry research...  \n",
      "3  AP - It's barely dawn when Mike Fitzpatrick st...  \n",
      "4  AP - Southern California's smog-fighting agenc...  \n",
      "\n",
      "Test data information:\n",
      "<class 'pandas.core.frame.DataFrame'>\n",
      "RangeIndex: 7600 entries, 0 to 7599\n",
      "Data columns (total 3 columns):\n",
      " #   Column       Non-Null Count  Dtype \n",
      "---  ------       --------------  ----- \n",
      " 0   Class Index  7600 non-null   int64 \n",
      " 1   Title        7600 non-null   object\n",
      " 2   Description  7600 non-null   object\n",
      "dtypes: int64(1), object(2)\n",
      "memory usage: 178.2+ KB\n",
      "\n",
      "Missing values in test data:\n",
      "Class Index    0\n",
      "Title          0\n",
      "Description    0\n",
      "dtype: int64\n"
     ]
    }
   ],
   "source": [
    "print(\"\\n--- Test Data Inspection ---\")\n",
    "print(\"First 5 rows of test data:\")\n",
    "print(test_df.head())\n",
    "print(\"\\nTest data information:\")\n",
    "test_df.info()\n",
    "print(\"\\nMissing values in test data:\")\n",
    "print(test_df.isnull().sum())"
   ]
  },
  {
   "cell_type": "code",
   "execution_count": 8,
   "id": "f84c0e98",
   "metadata": {},
   "outputs": [
    {
     "name": "stdout",
     "output_type": "stream",
     "text": [
      "\n",
      "--- Combined 'text' column created ---\n",
      "First 5 rows of training data with 'text' column:\n",
      "   Class Index                                               text\n",
      "0            3  Wall St. Bears Claw Back Into the Black (Reute...\n",
      "1            3  Carlyle Looks Toward Commercial Aerospace (Reu...\n",
      "2            3  Oil and Economy Cloud Stocks' Outlook (Reuters...\n",
      "3            3  Iraq Halts Oil Exports from Main Southern Pipe...\n",
      "4            3  Oil prices soar to all-time record, posing new...\n"
     ]
    }
   ],
   "source": [
    "train_df['text'] = train_df['Title'] + \" \" + train_df['Description']\n",
    "test_df['text'] = test_df['Title'] + \" \" + test_df['Description']\n",
    "\n",
    "print(\"\\n--- Combined 'text' column created ---\")\n",
    "print(\"First 5 rows of training data with 'text' column:\")\n",
    "print(train_df[['Class Index', 'text']].head())"
   ]
  },
  {
   "cell_type": "code",
   "execution_count": 9,
   "id": "4a173a79",
   "metadata": {},
   "outputs": [
    {
     "name": "stdout",
     "output_type": "stream",
     "text": [
      "\n",
      "--- Class Distribution in Training Data ---\n",
      "1    30000\n",
      "2    30000\n",
      "3    30000\n",
      "4    30000\n",
      "Name: Class Index, dtype: int64\n"
     ]
    }
   ],
   "source": [
    "print(\"\\n--- Class Distribution in Training Data ---\")\n",
    "class_counts = train_df['Class Index'].value_counts().sort_index()\n",
    "print(class_counts)"
   ]
  },
  {
   "cell_type": "code",
   "execution_count": 10,
   "id": "c39c7291",
   "metadata": {},
   "outputs": [],
   "source": [
    "class_map = {1: \"World\", 2: \"Sports\", 3: \"Business\", 4: \"Sci/Tech\"}\n",
    "train_df['Class Name'] = train_df['Class Index'].map(class_map)\n",
    "test_df['Class Name'] = test_df['Class Index'].map(class_map)"
   ]
  },
  {
   "cell_type": "code",
   "execution_count": 11,
   "id": "b7f2b930",
   "metadata": {},
   "outputs": [
    {
     "data": {
      "image/png": "[encoded data removed]",
      "text/plain": [
       "<Figure size 800x500 with 1 Axes>"
      ]
     },
     "metadata": {},
     "output_type": "display_data"
    }
   ],
   "source": [
    "plt.figure(figsize=(8, 5))\n",
    "sns.countplot(x='Class Name', data=train_df, order=class_map.values()) # Use class_map values for order\n",
    "plt.title('Distribution of News Categories in Training Data')\n",
    "plt.xlabel('Category')\n",
    "plt.ylabel('Number of Articles')\n",
    "plt.show()\n",
    "plt.close()"
   ]
  },
  {
   "cell_type": "code",
   "execution_count": 12,
   "id": "59fda2b2",
   "metadata": {},
   "outputs": [
    {
     "name": "stdout",
     "output_type": "stream",
     "text": [
      "\n",
      "--- Initial Text Exploration (First 2 samples per category) ---\n",
      "\n",
      "Category: World\n",
      "  Sample 1: Venezuelans Vote Early in Referendum on Chavez Rule (Reuters) Reuters - Venezuelans turned out early\\and in large numbers on Sunday to vote in a historic referendum\\that will either remove left-wing P...\n",
      "  Sample 2: S.Koreans Clash with Police on Iraq Troop Dispatch (Reuters) Reuters - South Korean police used water cannon in\\central Seoul Sunday to disperse at least 7,000 protesters\\urging the government to reve...\n",
      "\n",
      "Category: Sports\n",
      "  Sample 1: Phelps, Thorpe Advance in 200 Freestyle (AP) AP - Michael Phelps took care of qualifying for the Olympic 200-meter freestyle semifinals Sunday, and then found out he had been added to the American tea...\n",
      "  Sample 2: Reds Knock Padres Out of Wild-Card Lead (AP) AP - Wily Mo Pena homered twice and drove in four runs, helping the Cincinnati Reds beat the San Diego Padres 11-5 on Saturday night. San Diego was knocked...\n",
      "\n",
      "Category: Business\n",
      "  Sample 1: Wall St. Bears Claw Back Into the Black (Reuters) Reuters - Short-sellers, Wall Street's dwindling\\band of ultra-cynics, are seeing green again....\n",
      "  Sample 2: Carlyle Looks Toward Commercial Aerospace (Reuters) Reuters - Private investment firm Carlyle Group,\\which has a reputation for making well-timed and occasionally\\controversial plays in the defense in...\n",
      "\n",
      "Category: Sci/Tech\n",
      "  Sample 1: 'Madden,' 'ESPN' Football Score in Different Ways (Reuters) Reuters - Was absenteeism a little high\\on Tuesday among the guys at the office? EA Sports would like\\to think it was because \"Madden NFL 20...\n",
      "  Sample 2: Group to Propose New High-Speed Wireless Format (Reuters) Reuters - A group of technology companies\\including Texas Instruments Inc. (TXN.N), STMicroelectronics\\(STM.PA) and Broadcom Corp. (BRCM.O), o...\n"
     ]
    }
   ],
   "source": [
    "print(\"\\n--- Initial Text Exploration (First 2 samples per category) ---\")\n",
    "for class_name_val in class_map.values():\n",
    "    print(f\"\\nCategory: {class_name_val}\")\n",
    "    sample_texts = train_df[train_df['Class Name'] == class_name_val]['text'].head(2)\n",
    "    for i, text in enumerate(sample_texts):\n",
    "        print(f\"  Sample {i+1}: {text[:200]}...\")"
   ]
  },
  {
   "cell_type": "code",
   "execution_count": 13,
   "id": "677f2292",
   "metadata": {},
   "outputs": [
    {
     "name": "stdout",
     "output_type": "stream",
     "text": [
      "\n",
      "--- Text Length Statistics (Training Data) ---\n",
      "count    120000.000000\n",
      "mean        236.460025\n",
      "std          66.529799\n",
      "min          17.000000\n",
      "25%         196.000000\n",
      "50%         232.000000\n",
      "75%         266.000000\n",
      "max        1012.000000\n",
      "Name: text_length, dtype: float64\n"
     ]
    }
   ],
   "source": [
    "train_df['text_length'] = train_df['text'].apply(len)\n",
    "print(\"\\n--- Text Length Statistics (Training Data) ---\")\n",
    "print(train_df['text_length'].describe())"
   ]
  },
  {
   "cell_type": "code",
   "execution_count": 14,
   "id": "607e3d31",
   "metadata": {},
   "outputs": [
    {
     "data": {
      "image/png": "[encoded data removed]",
      "text/plain": [
       "<Figure size 1000x600 with 1 Axes>"
      ]
     },
     "metadata": {},
     "output_type": "display_data"
    }
   ],
   "source": [
    "plt.figure(figsize=(10, 6))\n",
    "sns.histplot(train_df['text_length'], bins=50, kde=True)\n",
    "plt.title('Distribution of Text Lengths in Training Data')\n",
    "plt.xlabel('Text Length (Number of Characters)')\n",
    "plt.ylabel('Frequency')\n",
    "plt.show()\n",
    "plt.close()"
   ]
  },
  {
   "cell_type": "code",
   "execution_count": 15,
   "id": "0019b1d5",
   "metadata": {},
   "outputs": [
    {
     "name": "stdout",
     "output_type": "stream",
     "text": [
      "\n",
      "--- DataFrames are ready for preprocessing ---\n",
      "Training DataFrame shape: (120000, 6)\n",
      "Test DataFrame shape: (7600, 5)\n"
     ]
    }
   ],
   "source": [
    "print(\"\\n--- DataFrames are ready for preprocessing ---\")\n",
    "print(\"Training DataFrame shape:\", train_df.shape)\n",
    "print(\"Test DataFrame shape:\", test_df.shape)"
   ]
  },
  {
   "cell_type": "markdown",
   "id": "2b7c51c9",
   "metadata": {},
   "source": [
    "## Preprocessing\n",
    "\n",
    "- Lowercase\n",
    "- Punctuation removal\n",
    "- Stop words and tokenization will be handled later by TfidfVectorizer"
   ]
  },
  {
   "cell_type": "code",
   "execution_count": 16,
   "id": "93f2cc37",
   "metadata": {},
   "outputs": [],
   "source": [
    "import string\n",
    "from sklearn.feature_extraction.text import TfidfVectorizer\n",
    "import joblib"
   ]
  },
  {
   "cell_type": "code",
   "execution_count": 17,
   "id": "ab696841",
   "metadata": {},
   "outputs": [],
   "source": [
    "translator = str.maketrans('', '', string.punctuation)\n",
    "\n",
    "def preprocess_text_simple(text_content: str) -> str:\n",
    "    if not isinstance(text_content, str):\n",
    "        return \"\"\n",
    "    \n",
    "    # 1. Lowercase\n",
    "    text_content = text_content.lower()\n",
    "    \n",
    "    # 2. Remove Punctuation\n",
    "    text_content = text_content.translate(translator)\n",
    "    \n",
    "    # 3. Remove extra whitespace that might be left after punctuation removal\n",
    "    text_content = \" \".join(text_content.split())\n",
    "    \n",
    "    return text_content"
   ]
  },
  {
   "cell_type": "code",
   "execution_count": 18,
   "id": "3db68a7d",
   "metadata": {},
   "outputs": [
    {
     "name": "stdout",
     "output_type": "stream",
     "text": [
      "Original: Hello World! This is a test text, for the AG_NEWS dataset... 123. How's it going?\n",
      "Processed: hello world this is a test text for the agnews dataset 123 hows it going\n"
     ]
    }
   ],
   "source": [
    "sample_text = \"Hello World! This is a test text, for the AG_NEWS dataset... 123. How's it going?\"\n",
    "processed_sample = preprocess_text_simple(sample_text)\n",
    "print(f\"Original: {sample_text}\")\n",
    "print(f\"Processed: {processed_sample}\")"
   ]
  },
  {
   "cell_type": "code",
   "execution_count": 19,
   "id": "56662ea3",
   "metadata": {},
   "outputs": [],
   "source": [
    "train_df['text'] = train_df['text'].fillna('')\n",
    "test_df['text'] = test_df['text'].fillna('')"
   ]
  },
  {
   "cell_type": "code",
   "execution_count": 20,
   "id": "4d041e1d",
   "metadata": {},
   "outputs": [
    {
     "name": "stdout",
     "output_type": "stream",
     "text": [
      "\n",
      "Applying preprocessing to training data...\n"
     ]
    }
   ],
   "source": [
    "print(\"\\nApplying preprocessing to training data...\")\n",
    "train_df['processed_text'] = train_df['text'].apply(preprocess_text_simple)"
   ]
  },
  {
   "cell_type": "code",
   "execution_count": 21,
   "id": "7ecda701",
   "metadata": {},
   "outputs": [
    {
     "name": "stdout",
     "output_type": "stream",
     "text": [
      "Applying preprocessing to test data...\n"
     ]
    }
   ],
   "source": [
    "print(\"Applying preprocessing to test data...\")\n",
    "test_df['processed_text'] = test_df['text'].apply(preprocess_text_simple)"
   ]
  },
  {
   "cell_type": "code",
   "execution_count": 22,
   "id": "3bd64331",
   "metadata": {},
   "outputs": [
    {
     "name": "stdout",
     "output_type": "stream",
     "text": [
      "\n",
      "Preprocessing complete.\n",
      "First 5 rows of training data with 'processed_text':\n",
      "                                                text  \\\n",
      "0  Wall St. Bears Claw Back Into the Black (Reute...   \n",
      "1  Carlyle Looks Toward Commercial Aerospace (Reu...   \n",
      "2  Oil and Economy Cloud Stocks' Outlook (Reuters...   \n",
      "3  Iraq Halts Oil Exports from Main Southern Pipe...   \n",
      "4  Oil prices soar to all-time record, posing new...   \n",
      "\n",
      "                                      processed_text  \n",
      "0  wall st bears claw back into the black reuters...  \n",
      "1  carlyle looks toward commercial aerospace reut...  \n",
      "2  oil and economy cloud stocks outlook reuters r...  \n",
      "3  iraq halts oil exports from main southern pipe...  \n",
      "4  oil prices soar to alltime record posing new m...  \n"
     ]
    }
   ],
   "source": [
    "print(\"\\nPreprocessing complete.\")\n",
    "print(\"First 5 rows of training data with 'processed_text':\")\n",
    "print(train_df[['text', 'processed_text']].head())"
   ]
  },
  {
   "cell_type": "code",
   "execution_count": 23,
   "id": "653bb6fe",
   "metadata": {},
   "outputs": [
    {
     "name": "stdout",
     "output_type": "stream",
     "text": [
      "\n",
      "First 5 rows of test data with 'processed_text':\n",
      "                                                text  \\\n",
      "0  Fears for T N pension after talks Unions repre...   \n",
      "1  The Race is On: Second Private Team Sets Launc...   \n",
      "2  Ky. Company Wins Grant to Study Peptides (AP) ...   \n",
      "3  Prediction Unit Helps Forecast Wildfires (AP) ...   \n",
      "4  Calif. Aims to Limit Farm-Related Smog (AP) AP...   \n",
      "\n",
      "                                      processed_text  \n",
      "0  fears for t n pension after talks unions repre...  \n",
      "1  the race is on second private team sets launch...  \n",
      "2  ky company wins grant to study peptides ap ap ...  \n",
      "3  prediction unit helps forecast wildfires ap ap...  \n",
      "4  calif aims to limit farmrelated smog ap ap sou...  \n"
     ]
    }
   ],
   "source": [
    "print(\"\\nFirst 5 rows of test data with 'processed_text':\")\n",
    "print(test_df[['text', 'processed_text']].head())"
   ]
  },
  {
   "cell_type": "markdown",
   "id": "0adfb876",
   "metadata": {},
   "source": [
    "### Feature Extraction (Vectorization) with TF-IDF"
   ]
  },
  {
   "cell_type": "code",
   "execution_count": 24,
   "id": "c1415fad",
   "metadata": {},
   "outputs": [
    {
     "name": "stdout",
     "output_type": "stream",
     "text": [
      "MODELS_DIR set to: .\\..\\models\n"
     ]
    }
   ],
   "source": [
    "BASE_DIR = '.'\n",
    "MODELS_DIR = os.path.join(BASE_DIR, '..', 'models')\n",
    "os.makedirs(MODELS_DIR, exist_ok=True)\n",
    "\n",
    "print(f\"MODELS_DIR set to: {MODELS_DIR}\")"
   ]
  },
  {
   "cell_type": "code",
   "execution_count": 25,
   "id": "8df1e3ae",
   "metadata": {},
   "outputs": [],
   "source": [
    "vectorizer = TfidfVectorizer(\n",
    "    max_features=10000,     # Keep the top 10,000 features (words)\n",
    "    stop_words='english',   # Remove English stop words\n",
    "    ngram_range=(1, 1),     # Consider individual words (unigrams)\n",
    "    min_df=5,               # Word must appear in at least 5 documents\n",
    "    max_df=0.9              # Word must not appear in more than 90% of documents\n",
    ")"
   ]
  },
  {
   "cell_type": "code",
   "execution_count": 26,
   "id": "8fa06e7e",
   "metadata": {},
   "outputs": [
    {
     "name": "stdout",
     "output_type": "stream",
     "text": [
      "Fitting TF-IDF Vectorizer on training data...\n",
      "Training data transformed to TF-IDF features.\n",
      "Shape of X_train_tfidf: (120000, 10000)\n"
     ]
    }
   ],
   "source": [
    "print(\"Fitting TF-IDF Vectorizer on training data...\")\n",
    "X_train_tfidf = vectorizer.fit_transform(train_df['processed_text'])\n",
    "print(\"Training data transformed to TF-IDF features.\")\n",
    "print(\"Shape of X_train_tfidf:\", X_train_tfidf.shape)"
   ]
  },
  {
   "cell_type": "code",
   "execution_count": 27,
   "id": "2b06b44d",
   "metadata": {},
   "outputs": [
    {
     "name": "stdout",
     "output_type": "stream",
     "text": [
      "\n",
      "Transforming test data with the fitted TF-IDF Vectorizer...\n",
      "Test data transformed to TF-IDF features.\n",
      "Shape of X_test_tfidf: (7600, 10000)\n"
     ]
    }
   ],
   "source": [
    "print(\"\\nTransforming test data with the fitted TF-IDF Vectorizer...\")\n",
    "X_test_tfidf = vectorizer.transform(test_df['processed_text'])\n",
    "print(\"Test data transformed to TF-IDF features.\")\n",
    "print(\"Shape of X_test_tfidf:\", X_test_tfidf.shape)"
   ]
  },
  {
   "cell_type": "code",
   "execution_count": 28,
   "id": "3483b35f",
   "metadata": {},
   "outputs": [
    {
     "name": "stdout",
     "output_type": "stream",
     "text": [
      "\n",
      "First 100 features (words) in vocabulary:\n",
      "['00' '01' '02' '03' '04' '05' '06' '07' '08' '09' '10' '100' '1000'\n",
      " '10000' '100000' '100m' '100meter' '100th' '101' '102' '103' '104' '105'\n",
      " '106' '107' '108' '10m' '10th' '10year' '10yearold' '11' '110' '1100'\n",
      " '112' '114' '115' '117' '11th' '12' '120' '1200' '12000' '121' '123'\n",
      " '125' '126' '12th' '13' '130' '133' '135' '136' '13th' '14' '140' '145'\n",
      " '146' '146s' '148' '149' '14th' '15' '150' '1500' '15000' '150000' '151'\n",
      " '155' '15th' '15year' '16' '160' '1600' '166' '167' '16th' '17' '170'\n",
      " '175' '177' '17th' '17yearold' '18' '180' '18month' '18th' '18yearold'\n",
      " '19' '1918' '1970s' '1980' '1980s' '1986' '1990' '1990s' '1991' '1992'\n",
      " '1994' '1995' '1996']\n",
      "Last 100 features (words) in vocabulary:\n",
      "['worse' 'worsening' 'worst' 'worth' 'wouldbe' 'wouldn' 'wouldnt' 'wound'\n",
      " 'wounded' 'wounding' 'wounds' 'wpp' 'wr' 'wrap' 'wrapped' 'wraps' 'wreck'\n",
      " 'wreckage' 'wrestling' 'wright' 'wrigley' 'wrist' 'write' 'writedown'\n",
      " 'writer' 'writers' 'writes' 'writing' 'written' 'wrong' 'wrongdoing'\n",
      " 'wrote' 'wsj' 'wta' 'wto' 'wva' 'x43a' 'x86' 'xbox' 'xinhua' 'xinhuanet'\n",
      " 'xm' 'xp' 'xprize' 'xstrata' 'yahoo' 'yahoos' 'yale' 'yang' 'yankee'\n",
      " 'yankees' 'yanks' 'yao' 'yard' 'yards' 'yasser' 'year' 'yearago'\n",
      " 'yearearlier' 'yearend' 'years' 'yellow' 'yemeni' 'yen' 'yes' 'yesterday'\n",
      " 'yesterdays' 'yield' 'yields' 'york' 'yorkbased' 'yorke' 'yorks' 'youll'\n",
      " 'young' 'younger' 'youngest' 'youngsters' 'youre' 'youth' 'youve' 'yuan'\n",
      " 'yudhoyono' 'yugoslav' 'yukos' 'yum' 'yushchenko' 'zarqawi' 'zdnet'\n",
      " 'zealand' 'zee' 'zemin' 'zero' 'ziff' 'zimbabwe' 'zone' 'zoo' 'zook'\n",
      " 'zurich' 'zvonareva']\n"
     ]
    }
   ],
   "source": [
    "feature_names = vectorizer.get_feature_names_out()\n",
    "print(\"\\nFirst 100 features (words) in vocabulary:\")\n",
    "print(feature_names[:100])\n",
    "print(\"Last 100 features (words) in vocabulary:\")\n",
    "print(feature_names[-100:])"
   ]
  },
  {
   "cell_type": "code",
   "execution_count": 29,
   "id": "49803365",
   "metadata": {},
   "outputs": [
    {
     "name": "stdout",
     "output_type": "stream",
     "text": [
      "Training labels (y_train) shape: (120000,)\n",
      "First 5 training labels (0-indexed):\n",
      "0    2\n",
      "1    2\n",
      "2    2\n",
      "3    2\n",
      "4    2\n",
      "Name: Class Index, dtype: int64\n",
      "\n",
      "Test labels (y_test) shape: (7600,)\n",
      "First 5 test labels (0-indexed):\n",
      "0    2\n",
      "1    3\n",
      "2    3\n",
      "3    3\n",
      "4    3\n",
      "Name: Class Index, dtype: int64\n",
      "\n",
      "Value counts for y_train (0-indexed):\n",
      "0    30000\n",
      "1    30000\n",
      "2    30000\n",
      "3    30000\n",
      "Name: Class Index, dtype: int64\n",
      "Value counts for y_test (0-indexed):\n",
      "0    1900\n",
      "1    1900\n",
      "2    1900\n",
      "3    1900\n",
      "Name: Class Index, dtype: int64\n",
      "\n",
      "0-Indexed Class Map: {0: 'World', 1: 'Sports', 2: 'Business', 3: 'Sci/Tech'}\n"
     ]
    }
   ],
   "source": [
    "# Convert labels from 1-4 to 0-3\n",
    "y_train = train_df['Class Index'] - 1\n",
    "y_test = test_df['Class Index'] - 1\n",
    "\n",
    "print(\"Training labels (y_train) shape:\", y_train.shape)\n",
    "print(\"First 5 training labels (0-indexed):\")\n",
    "print(y_train.head())\n",
    "print(\"\\nTest labels (y_test) shape:\", y_test.shape)\n",
    "print(\"First 5 test labels (0-indexed):\")\n",
    "print(y_test.head())\n",
    "\n",
    "print(\"\\nValue counts for y_train (0-indexed):\")\n",
    "print(y_train.value_counts().sort_index())\n",
    "print(\"Value counts for y_test (0-indexed):\")\n",
    "print(y_test.value_counts().sort_index())\n",
    "\n",
    "# Class mapping (0-indexed)\n",
    "class_map_0_indexed = {0: \"World\", 1: \"Sports\", 2: \"Business\", 3: \"Sci/Tech\"}\n",
    "print(\"\\n0-Indexed Class Map:\", class_map_0_indexed)"
   ]
  },
  {
   "cell_type": "code",
   "execution_count": 30,
   "id": "9ffc1baf",
   "metadata": {},
   "outputs": [
    {
     "name": "stdout",
     "output_type": "stream",
     "text": [
      "\n",
      "TF-IDF vectorizer saved to: .\\..\\models\\tfidf_vectorizer.joblib\n"
     ]
    }
   ],
   "source": [
    "vectorizer_path = os.path.join(MODELS_DIR, 'tfidf_vectorizer.joblib')\n",
    "try:\n",
    "    joblib.dump(vectorizer, vectorizer_path)\n",
    "    print(f\"\\nTF-IDF vectorizer saved to: {vectorizer_path}\")\n",
    "except Exception as e:\n",
    "    print(f\"Error saving vectorizer: {e}\")"
   ]
  },
  {
   "cell_type": "markdown",
   "id": "8088803e",
   "metadata": {},
   "source": [
    "## Model Creation, AI Testing"
   ]
  },
  {
   "cell_type": "code",
   "execution_count": null,
   "id": "b1c78038",
   "metadata": {},
   "outputs": [],
   "source": [
    "from sklearn.naive_bayes import MultinomialNB\n",
    "from sklearn.linear_model import LogisticRegression\n",
    "from sklearn.metrics import accuracy_score, classification_report, confusion_matrix"
   ]
  },
  {
   "cell_type": "markdown",
   "id": "d3b92cd0",
   "metadata": {},
   "source": [
    "### Multinomial Naive Bayes"
   ]
  },
  {
   "cell_type": "code",
   "execution_count": 32,
   "id": "b7919003",
   "metadata": {},
   "outputs": [
    {
     "name": "stdout",
     "output_type": "stream",
     "text": [
      "\n",
      "--- Training Multinomial Naive Bayes Model ---\n",
      "Fitting Naive Bayes model...\n",
      "Naive Bayes model fitted.\n"
     ]
    }
   ],
   "source": [
    "print(\"\\n--- Training Multinomial Naive Bayes Model ---\")\n",
    "nb_model = MultinomialNB(alpha=0.1) # alpha is Laplace smoothing parameter, 0.1 as starting point\n",
    "\n",
    "print(\"Fitting Naive Bayes model...\")\n",
    "nb_model.fit(X_train_tfidf, y_train)\n",
    "print(\"Naive Bayes model fitted.\")"
   ]
  },
  {
   "cell_type": "code",
   "execution_count": 33,
   "id": "54798561",
   "metadata": {},
   "outputs": [
    {
     "name": "stdout",
     "output_type": "stream",
     "text": [
      "\n",
      "Making predictions with Naive Bayes on test set...\n",
      "Predictions made.\n"
     ]
    }
   ],
   "source": [
    "print(\"\\nMaking predictions with Naive Bayes on test set...\")\n",
    "y_pred_nb = nb_model.predict(X_test_tfidf)\n",
    "print(\"Predictions made.\")"
   ]
  },
  {
   "cell_type": "code",
   "execution_count": 34,
   "id": "1b639603",
   "metadata": {},
   "outputs": [
    {
     "name": "stdout",
     "output_type": "stream",
     "text": [
      "\n",
      "--- Multinomial Naive Bayes Evaluation ---\n",
      "Accuracy: 0.8984\n"
     ]
    }
   ],
   "source": [
    "print(\"\\n--- Multinomial Naive Bayes Evaluation ---\")\n",
    "accuracy_nb = accuracy_score(y_test, y_pred_nb)\n",
    "print(f\"Accuracy: {accuracy_nb:.4f}\")"
   ]
  },
  {
   "cell_type": "code",
   "execution_count": 35,
   "id": "53ef8a0e",
   "metadata": {},
   "outputs": [
    {
     "name": "stdout",
     "output_type": "stream",
     "text": [
      "\n",
      "Classification Report:\n",
      "              precision    recall  f1-score   support\n",
      "\n",
      "       World       0.91      0.89      0.90      1900\n",
      "      Sports       0.95      0.98      0.96      1900\n",
      "    Business       0.87      0.85      0.86      1900\n",
      "    Sci/Tech       0.87      0.87      0.87      1900\n",
      "\n",
      "    accuracy                           0.90      7600\n",
      "   macro avg       0.90      0.90      0.90      7600\n",
      "weighted avg       0.90      0.90      0.90      7600\n",
      "\n"
     ]
    }
   ],
   "source": [
    "print(\"\\nClassification Report:\")\n",
    "target_names_nb = [class_map_0_indexed[i] for i in sorted(class_map_0_indexed.keys())]\n",
    "print(classification_report(y_test, y_pred_nb, target_names=target_names_nb))"
   ]
  },
  {
   "cell_type": "code",
   "execution_count": 36,
   "id": "5d84b428",
   "metadata": {},
   "outputs": [
    {
     "name": "stdout",
     "output_type": "stream",
     "text": [
      "\n",
      "Confusion Matrix (Naive Bayes):\n",
      "[[1694   66   95   45]\n",
      " [  18 1863    8   11]\n",
      " [  76   19 1609  196]\n",
      " [  76   19  143 1662]]\n"
     ]
    },
    {
     "data": {
      "image/png": "[encoded data removed]",
      "text/plain": [
       "<Figure size 800x600 with 2 Axes>"
      ]
     },
     "metadata": {},
     "output_type": "display_data"
    }
   ],
   "source": [
    "print(\"\\nConfusion Matrix (Naive Bayes):\")\n",
    "cm_nb = confusion_matrix(y_test, y_pred_nb)\n",
    "print(cm_nb)\n",
    "\n",
    "plt.figure(figsize=(8, 6))\n",
    "sns.heatmap(cm_nb, annot=True, fmt='d', cmap='Blues',\n",
    "            xticklabels=target_names_nb, yticklabels=target_names_nb)\n",
    "plt.title('Confusion Matrix - Multinomial Naive Bayes')\n",
    "plt.xlabel('Predicted Label')\n",
    "plt.ylabel('True Label')\n",
    "plt.show()\n",
    "plt.close()"
   ]
  },
  {
   "cell_type": "code",
   "execution_count": 37,
   "id": "6d81c2da",
   "metadata": {},
   "outputs": [
    {
     "name": "stdout",
     "output_type": "stream",
     "text": [
      "\n",
      "Naive Bayes model saved to: .\\..\\models\\naive_bayes_model.joblib\n"
     ]
    }
   ],
   "source": [
    "nb_model_path = os.path.join(MODELS_DIR, 'naive_bayes_model.joblib')\n",
    "try:\n",
    "    joblib.dump(nb_model, nb_model_path)\n",
    "    print(f\"\\nNaive Bayes model saved to: {nb_model_path}\")\n",
    "except Exception as e:\n",
    "    print(f\"Error saving Naive Bayes model: {e}\")"
   ]
  },
  {
   "cell_type": "markdown",
   "id": "ef5fe3be",
   "metadata": {},
   "source": [
    "### Logistic Regression"
   ]
  },
  {
   "cell_type": "code",
   "execution_count": 39,
   "id": "f91633f7",
   "metadata": {},
   "outputs": [
    {
     "name": "stdout",
     "output_type": "stream",
     "text": [
      "\n",
      "--- Training Logistic Regression Model ---\n",
      "Fitting Logistic Regression model...\n",
      "Logistic Regression model fitted.\n"
     ]
    }
   ],
   "source": [
    "print(\"\\n--- Training Logistic Regression Model ---\")\n",
    "log_reg_model = LogisticRegression(solver='liblinear', random_state=42, C=1.0, max_iter=1000)\n",
    "\n",
    "print(\"Fitting Logistic Regression model...\")\n",
    "log_reg_model.fit(X_train_tfidf, y_train)\n",
    "print(\"Logistic Regression model fitted.\")"
   ]
  },
  {
   "cell_type": "code",
   "execution_count": 40,
   "id": "2c3dc921",
   "metadata": {},
   "outputs": [
    {
     "name": "stdout",
     "output_type": "stream",
     "text": [
      "\n",
      "Making predictions with Logistic Regression on test set...\n",
      "Predictions made.\n"
     ]
    }
   ],
   "source": [
    "print(\"\\nMaking predictions with Logistic Regression on test set...\")\n",
    "y_pred_log_reg = log_reg_model.predict(X_test_tfidf)\n",
    "print(\"Predictions made.\")"
   ]
  },
  {
   "cell_type": "code",
   "execution_count": 41,
   "id": "af4f8da5",
   "metadata": {},
   "outputs": [
    {
     "name": "stdout",
     "output_type": "stream",
     "text": [
      "\n",
      "--- Logistic Regression Evaluation ---\n",
      "Accuracy: 0.9118\n"
     ]
    }
   ],
   "source": [
    "print(\"\\n--- Logistic Regression Evaluation ---\")\n",
    "accuracy_log_reg = accuracy_score(y_test, y_pred_log_reg)\n",
    "print(f\"Accuracy: {accuracy_log_reg:.4f}\")"
   ]
  },
  {
   "cell_type": "code",
   "execution_count": 42,
   "id": "f68a3a6a",
   "metadata": {},
   "outputs": [
    {
     "name": "stdout",
     "output_type": "stream",
     "text": [
      "\n",
      "Classification Report:\n",
      "              precision    recall  f1-score   support\n",
      "\n",
      "       World       0.93      0.91      0.92      1900\n",
      "      Sports       0.95      0.98      0.97      1900\n",
      "    Business       0.88      0.87      0.88      1900\n",
      "    Sci/Tech       0.89      0.88      0.89      1900\n",
      "\n",
      "    accuracy                           0.91      7600\n",
      "   macro avg       0.91      0.91      0.91      7600\n",
      "weighted avg       0.91      0.91      0.91      7600\n",
      "\n"
     ]
    }
   ],
   "source": [
    "print(\"\\nClassification Report:\")\n",
    "print(classification_report(y_test, y_pred_log_reg, target_names=target_names_nb))"
   ]
  },
  {
   "cell_type": "code",
   "execution_count": 43,
   "id": "7a646e48",
   "metadata": {},
   "outputs": [
    {
     "name": "stdout",
     "output_type": "stream",
     "text": [
      "\n",
      "Confusion Matrix (Logistic Regression):\n",
      "[[1722   55   79   44]\n",
      " [  15 1867   10    8]\n",
      " [  60   19 1661  160]\n",
      " [  58   26  136 1680]]\n"
     ]
    },
    {
     "data": {
      "image/png": "[encoded data removed]",
      "text/plain": [
       "<Figure size 800x600 with 2 Axes>"
      ]
     },
     "metadata": {},
     "output_type": "display_data"
    }
   ],
   "source": [
    "print(\"\\nConfusion Matrix (Logistic Regression):\")\n",
    "cm_log_reg = confusion_matrix(y_test, y_pred_log_reg)\n",
    "print(cm_log_reg)\n",
    "\n",
    "plt.figure(figsize=(8, 6))\n",
    "sns.heatmap(cm_log_reg, annot=True, fmt='d', cmap='Greens',\n",
    "            xticklabels=target_names_nb, yticklabels=target_names_nb)\n",
    "plt.title('Confusion Matrix - Logistic Regression')\n",
    "plt.xlabel('Predicted Label')\n",
    "plt.ylabel('True Label')\n",
    "plt.show()\n",
    "plt.close()"
   ]
  },
  {
   "cell_type": "code",
   "execution_count": 44,
   "id": "c1c2734c",
   "metadata": {},
   "outputs": [
    {
     "name": "stdout",
     "output_type": "stream",
     "text": [
      "\n",
      "Logistic Regression model saved to: .\\..\\models\\logistic_regression_model.joblib\n"
     ]
    }
   ],
   "source": [
    "log_reg_model_path = os.path.join(MODELS_DIR, 'logistic_regression_model.joblib')\n",
    "try:\n",
    "    joblib.dump(log_reg_model, log_reg_model_path)\n",
    "    print(f\"\\nLogistic Regression model saved to: {log_reg_model_path}\")\n",
    "except Exception as e:\n",
    "    print(f\"Error saving Logistic Regression model: {e}\")"
   ]
  },
  {
   "cell_type": "markdown",
   "id": "d7893a58",
   "metadata": {},
   "source": [
    "### Model Selection"
   ]
  },
  {
   "cell_type": "code",
   "execution_count": 45,
   "id": "c433e64f",
   "metadata": {},
   "outputs": [
    {
     "name": "stdout",
     "output_type": "stream",
     "text": [
      "\n",
      "--- Model Performance Summary ---\n",
      "Multinomial Naive Bayes Accuracy: 0.8984\n",
      "Logistic Regression Accuracy:     0.9118\n",
      "\n",
      "Naive Bayes Classification Report:\n",
      "               precision    recall  f1-score   support\n",
      "\n",
      "       World       0.91      0.89      0.90      1900\n",
      "      Sports       0.95      0.98      0.96      1900\n",
      "    Business       0.87      0.85      0.86      1900\n",
      "    Sci/Tech       0.87      0.87      0.87      1900\n",
      "\n",
      "    accuracy                           0.90      7600\n",
      "   macro avg       0.90      0.90      0.90      7600\n",
      "weighted avg       0.90      0.90      0.90      7600\n",
      "\n",
      "\n",
      "Logistic Regression Classification Report:\n",
      "               precision    recall  f1-score   support\n",
      "\n",
      "       World       0.93      0.91      0.92      1900\n",
      "      Sports       0.95      0.98      0.97      1900\n",
      "    Business       0.88      0.87      0.88      1900\n",
      "    Sci/Tech       0.89      0.88      0.89      1900\n",
      "\n",
      "    accuracy                           0.91      7600\n",
      "   macro avg       0.91      0.91      0.91      7600\n",
      "weighted avg       0.91      0.91      0.91      7600\n",
      "\n"
     ]
    }
   ],
   "source": [
    "print(\"\\n--- Model Performance Summary ---\")\n",
    "print(f\"Multinomial Naive Bayes Accuracy: {accuracy_nb:.4f}\")\n",
    "print(f\"Logistic Regression Accuracy:     {accuracy_log_reg:.4f}\")\n",
    "\n",
    "print(\"\\nNaive Bayes Classification Report:\\n\", classification_report(y_test, y_pred_nb, target_names=target_names_nb))\n",
    "print(\"\\nLogistic Regression Classification Report:\\n\", classification_report(y_test, y_pred_log_reg, target_names=target_names_nb))"
   ]
  },
  {
   "cell_type": "code",
   "execution_count": 48,
   "id": "7188d38f",
   "metadata": {},
   "outputs": [],
   "source": [
    "chosen_model = log_reg_model\n",
    "chosen_model_name = 'logistic_regression'\n",
    "\n",
    "final_model_path = os.path.join(MODELS_DIR, 'news_classifier_model.joblib')\n",
    "final_vectorizer_path = os.path.join(MODELS_DIR, 'tfidf_vectorizer.joblib')"
   ]
  },
  {
   "cell_type": "code",
   "execution_count": null,
   "id": "32000f26",
   "metadata": {},
   "outputs": [
    {
     "name": "stdout",
     "output_type": "stream",
     "text": [
      "\n",
      "Chosen model (logistic_regression) saved as: .\\..\\models\\news_classifier_model.joblib\n",
      "TF-IDF vectorizer already saved at: .\\..\\models\\tfidf_vectorizer.joblib\n"
     ]
    }
   ],
   "source": [
    "try:\n",
    "    joblib.dump(chosen_model, final_model_path)\n",
    "    print(f\"\\nChosen model ({chosen_model_name}) saved as: {final_model_path}\")\n",
    "    if os.path.exists(final_vectorizer_path):\n",
    "        print(f\"TF-IDF vectorizer already saved at: {final_vectorizer_path}\")\n",
    "    else:\n",
    "        print(f\"ERROR: TF-IDF vectorizer not found at {final_vectorizer_path}.\")\n",
    "except Exception as e:\n",
    "    print(f\"Error saving the chosen model: {e}\")"
   ]
  },
  {
   "cell_type": "markdown",
   "id": "c44226f1",
   "metadata": {},
   "source": [
    "## AI Performance"
   ]
  },
  {
   "cell_type": "code",
   "execution_count": 50,
   "id": "035e3fb2",
   "metadata": {},
   "outputs": [],
   "source": [
    "import time"
   ]
  },
  {
   "cell_type": "code",
   "execution_count": 53,
   "id": "7c4a5247",
   "metadata": {},
   "outputs": [
    {
     "name": "stdout",
     "output_type": "stream",
     "text": [
      "\n",
      "--- Evaluating Prediction Speed for: LogisticRegression ---\n",
      "Number of test samples: 7600\n",
      "Total time to predict on 7600 test samples: 0.0029 seconds\n",
      "Average prediction time per sample: 0.0004 milliseconds\n"
     ]
    }
   ],
   "source": [
    "print(f\"\\n--- Evaluating Prediction Speed for: {type(chosen_model).__name__} ---\")\n",
    "\n",
    "num_test_samples = X_test_tfidf.shape[0]\n",
    "print(f\"Number of test samples: {num_test_samples}\")\n",
    "\n",
    "start_time = time.time()\n",
    "y_pred_speed_test = chosen_model.predict(X_test_tfidf)\n",
    "end_time = time.time()\n",
    "\n",
    "total_prediction_time = end_time - start_time\n",
    "avg_prediction_time_per_sample = total_prediction_time / num_test_samples\n",
    "\n",
    "print(f\"Total time to predict on {num_test_samples} test samples: {total_prediction_time:.4f} seconds\")\n",
    "print(f\"Average prediction time per sample: {avg_prediction_time_per_sample * 1000:.4f} milliseconds\")"
   ]
  },
  {
   "cell_type": "code",
   "execution_count": 55,
   "id": "4ea550fd",
   "metadata": {},
   "outputs": [
    {
     "name": "stdout",
     "output_type": "stream",
     "text": [
      "\n",
      "Average time for a single sample prediction (over 1000 samples): 0.0862 milliseconds\n"
     ]
    }
   ],
   "source": [
    "# Simulate predicting on single instances, which is more representative of an API call\n",
    "num_single_predictions = 1000\n",
    "if num_single_predictions > num_test_samples:\n",
    "    num_single_predictions = num_test_samples\n",
    "\n",
    "single_prediction_times = []\n",
    "for i in range(num_single_predictions):\n",
    "    sample = X_test_tfidf[i]\n",
    "    start_sample_time = time.time()\n",
    "    chosen_model.predict(sample)\n",
    "    end_sample_time = time.time()\n",
    "    single_prediction_times.append(end_sample_time - start_sample_time)\n",
    "\n",
    "avg_single_pred_time = sum(single_prediction_times) / len(single_prediction_times)\n",
    "print(f\"\\nAverage time for a single sample prediction (over {num_single_predictions} samples): {avg_single_pred_time * 1000:.4f} milliseconds\")"
   ]
  },
  {
   "cell_type": "code",
   "execution_count": 56,
   "id": "001d31d4",
   "metadata": {},
   "outputs": [
    {
     "name": "stdout",
     "output_type": "stream",
     "text": [
      "\n",
      "Chosen Model (LogisticRegression) size: 321034 bytes (313.51 KB / 0.31 MB)\n",
      "TF-IDF Vectorizer size: 2378235 bytes (2322.50 KB / 2.27 MB)\n"
     ]
    }
   ],
   "source": [
    "final_model_path = os.path.join(MODELS_DIR, 'news_classifier_model.joblib')\n",
    "final_vectorizer_path = os.path.join(MODELS_DIR, 'tfidf_vectorizer.joblib')\n",
    "\n",
    "if os.path.exists(final_model_path):\n",
    "    model_size_bytes = os.path.getsize(final_model_path)\n",
    "    model_size_kb = model_size_bytes / 1024\n",
    "    model_size_mb = model_size_kb / 1024\n",
    "    print(f\"\\nChosen Model ({type(chosen_model).__name__}) size: {model_size_bytes} bytes ({model_size_kb:.2f} KB / {model_size_mb:.2f} MB)\")\n",
    "else:\n",
    "    print(f\"Model file not found at: {final_model_path}\")\n",
    "\n",
    "if os.path.exists(final_vectorizer_path):\n",
    "    vectorizer_size_bytes = os.path.getsize(final_vectorizer_path)\n",
    "    vectorizer_size_kb = vectorizer_size_bytes / 1024\n",
    "    vectorizer_size_mb = vectorizer_size_kb / 1024\n",
    "    print(f\"TF-IDF Vectorizer size: {vectorizer_size_bytes} bytes ({vectorizer_size_kb:.2f} KB / {vectorizer_size_mb:.2f} MB)\")\n",
    "else:\n",
    "    print(f\"Vectorizer file not found at: {final_vectorizer_path}\")"
   ]
  },
  {
   "cell_type": "markdown",
   "id": "e590bee2",
   "metadata": {},
   "source": [
    "## Input Prediction"
   ]
  },
  {
   "cell_type": "code",
   "execution_count": 58,
   "id": "504fcfcd",
   "metadata": {},
   "outputs": [],
   "source": [
    "import numpy as np"
   ]
  },
  {
   "cell_type": "code",
   "execution_count": 57,
   "id": "99259dae",
   "metadata": {},
   "outputs": [
    {
     "name": "stdout",
     "output_type": "stream",
     "text": [
      "Successfully loaded model from .\\..\\models\\news_classifier_model.joblib and vectorizer from .\\..\\models\\tfidf_vectorizer.joblib\n"
     ]
    }
   ],
   "source": [
    "final_model_path = os.path.join(MODELS_DIR, 'news_classifier_model.joblib')\n",
    "final_vectorizer_path = os.path.join(MODELS_DIR, 'tfidf_vectorizer.joblib')\n",
    "\n",
    "try:\n",
    "    loaded_model = joblib.load(final_model_path)\n",
    "    loaded_vectorizer = joblib.load(final_vectorizer_path)\n",
    "    print(f\"Successfully loaded model from {final_model_path} and vectorizer from {final_vectorizer_path}\")\n",
    "except FileNotFoundError:\n",
    "    print(f\"ERROR: Model or vectorizer not found at {final_model_path} or {final_vectorizer_path}\")\n",
    "    exit()\n",
    "except Exception as e:\n",
    "    print(f\"ERROR: Failed to load model or vectorizer: {e}\")\n",
    "    exit()"
   ]
  },
  {
   "cell_type": "code",
   "execution_count": null,
   "id": "a3394ada",
   "metadata": {},
   "outputs": [],
   "source": [
    "def predict_category(text_input):\n",
    "    processed_text = preprocess_text_simple(text_input)\n",
    "    \n",
    "    text_tfidf = loaded_vectorizer.transform([processed_text])\n",
    "    \n",
    "    prediction = loaded_model.predict(text_tfidf)[0]\n",
    "    print(prediction)\n",
    "    \n",
    "    probabilities = loaded_model.predict_proba(text_tfidf)[0]\n",
    "    \n",
    "    class_map_0_indexed = {0: \"World\", 1: \"Sports\", 2: \"Business\", 3: \"Sci/Tech\"}\n",
    "    predicted_class = class_map_0_indexed[prediction]\n",
    "    \n",
    "    top_3_indices = np.argsort(probabilities)[-3:][::-1]\n",
    "    top_3_classes = [(class_map_0_indexed[i], probabilities[i]) for i in top_3_indices]\n",
    "    \n",
    "    return predicted_class, top_3_classes"
   ]
  },
  {
   "cell_type": "code",
   "execution_count": 74,
   "id": "54bd72cc",
   "metadata": {},
   "outputs": [
    {
     "name": "stdout",
     "output_type": "stream",
     "text": [
      "\n",
      "--- Category Suggestion Tool ---\n",
      "Enter a thread.\n",
      "Type 'exit' to quit.\n",
      "\n",
      "Thread content: I love the USA, it's the best country\n",
      "[0]\n",
      "True\n",
      "<class 'numpy.ndarray'>\n",
      "0\n",
      "Predicted Category: World\n",
      "Top 3 Category Probabilities:\n",
      "  World: 0.4241\n",
      "  Sci/Tech: 0.3394\n",
      "  Sports: 0.1443\n",
      "\n",
      "Exiting prediction tool. Goodbye!\n"
     ]
    }
   ],
   "source": [
    "print(\"\\n--- Category Suggestion Tool ---\")\n",
    "print(\"Enter a thread.\")\n",
    "print(\"Type 'exit' to quit.\")\n",
    "while True:\n",
    "    user_input = input(\"Enter text: \")\n",
    "    if user_input.lower() == 'exit':\n",
    "        print(\"Exiting prediction tool. Goodbye!\")\n",
    "        break\n",
    "    \n",
    "    if not user_input.strip():\n",
    "        print(\"Error: Input cannot be empty. Please try again.\")\n",
    "        continue\n",
    "    \n",
    "    print(f\"\\nThread content: {user_input}\")\n",
    "    predicted_class, top_3_classes = predict_category(user_input)\n",
    "    print(f\"Predicted Category: {predicted_class}\")\n",
    "    print(\"Top 3 Category Probabilities:\")\n",
    "    for class_name, prob in top_3_classes:\n",
    "        print(f\"  {class_name}: {prob:.4f}\")\n",
    "    print()"
   ]
  }
 ],
 "metadata": {
  "kernelspec": {
   "display_name": "nlp",
   "language": "python",
   "name": "python3"
  },
  "language_info": {
   "codemirror_mode": {
    "name": "ipython",
    "version": 3
   },
   "file_extension": ".py",
   "mimetype": "text/x-python",
   "name": "python",
   "nbconvert_exporter": "python",
   "pygments_lexer": "ipython3",
   "version": "3.7.6"
  }
 },
 "nbformat": 4,
 "nbformat_minor": 5
}
